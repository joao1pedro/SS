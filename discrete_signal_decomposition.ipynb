{
 "cells": [
  {
   "cell_type": "code",
   "execution_count": 37,
   "metadata": {},
   "outputs": [],
   "source": [
    "import numpy as np\n",
    "import matplotlib.pyplot as plt"
   ]
  },
  {
   "cell_type": "code",
   "execution_count": 38,
   "metadata": {},
   "outputs": [],
   "source": [
    "def step(n, A, shift):\n",
    "    u = np.zeros(N)\n",
    "    \n",
    "    for i in range(0, N):\n",
    "        if n[i] >= shift:\n",
    "            u[i] = A\n",
    "    return u"
   ]
  },
  {
   "cell_type": "code",
   "execution_count": 39,
   "metadata": {},
   "outputs": [
    {
     "data": {
      "image/png": "[encoded data removed]",
      "text/plain": [
       "<Figure size 576x360 with 1 Axes>"
      ]
     },
     "metadata": {
      "needs_background": "light"
     },
     "output_type": "display_data"
    }
   ],
   "source": [
    "n = np.arange(-10, 10)\n",
    "N = len(n)\n",
    "\n",
    "A = 1\n",
    "shift = 0\n",
    "plt.rcParams['figure.figsize']=(8,5)\n",
    "\n",
    "u1 = step(n, 1, 0)\n",
    "u2 = step(n, 2, -1)\n",
    "u3 = step(n, -1, -2)\n",
    "\n",
    "u = u1+u2+u3\n",
    "\n",
    "plt.stem(n,u)\n",
    "plt.xlim(-10,10)\n",
    "plt.ylim(-5,5)\n",
    "plt.gca().spines['left'].set_position('center')\n",
    "plt.gca().spines['left'].set_color('red')\n",
    "plt.gca().spines['right'].set_color('none')\n",
    "plt.gca().spines['bottom'].set_position('center')\n",
    "plt.gca().spines['bottom'].set_color('red')\n",
    "plt.gca().spines['top'].set_color('none')\n",
    "plt.grid()"
   ]
  },
  {
   "cell_type": "code",
   "execution_count": null,
   "metadata": {},
   "outputs": [],
   "source": []
  }
 ],
 "metadata": {
  "interpreter": {
   "hash": "12cae2aaed0c89d310710a97b5a8c80dbaa15078eec4813cf3639dc05d74c7b1"
  },
  "kernelspec": {
   "display_name": "Python 3.10.1 64-bit ('venv': venv)",
   "language": "python",
   "name": "python3"
  },
  "language_info": {
   "codemirror_mode": {
    "name": "ipython",
    "version": 3
   },
   "file_extension": ".py",
   "mimetype": "text/x-python",
   "name": "python",
   "nbconvert_exporter": "python",
   "pygments_lexer": "ipython3",
   "version": "3.10.1"
  },
  "orig_nbformat": 4
 },
 "nbformat": 4,
 "nbformat_minor": 2
}
