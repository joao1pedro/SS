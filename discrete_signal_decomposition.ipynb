{
 "cells": [
  {
   "cell_type": "code",
   "execution_count": 112,
   "metadata": {},
   "outputs": [],
   "source": [
    "import numpy as np\n",
    "import matplotlib.pyplot as plt"
   ]
  },
  {
   "cell_type": "code",
   "execution_count": 113,
   "metadata": {},
   "outputs": [],
   "source": [
    "\"\"\" [Entrada]: range de tempo discreto n; \n",
    "        A: amplitude do sinal impulso;\n",
    "        n0: tempo inicial\n",
    "    [Saída]:\n",
    "        sinal impulso delta[n]\n",
    "        e reflexão do sinal impulso delta[-n]\n",
    "\"\"\"\n",
    "def impulse(n, A, n0):\n",
    "    # X[n]\n",
    "    u = np.zeros(N)\n",
    "    ind = np.where(n==n0)\n",
    "    u[ind] = A\n",
    "    # X[-n]\n",
    "    u_ = np.zeros(N)\n",
    "    ind = np.where(-n==n0)\n",
    "    u_[ind] = A\n",
    "    return u, u_\n",
    "\n",
    "\n",
    "\"\"\" [Entrada]: array de sinais impulsos\n",
    "    [Saída]: sinal X[n] dado pela soma\n",
    "        de sinais impulsivos\n",
    "\"\"\"\n",
    "\n",
    "def signal_gen(u: list):\n",
    "    return sum(u)\n",
    "\n",
    "\n",
    "\"\"\" [Entrada]: sinal X[n] e sua reflexão X[-n]\n",
    "    [Saída]: parte par do sinal Xp e parte ímpar do sinal Xi\n",
    "\"\"\"\n",
    "def signal_decomposition(xn, _xn):\n",
    "    # parte par = 1/2 *(x[n] + x[-n])\n",
    "    xp = 1/2 * (xn + _xn)\n",
    "    # parte par = 1/2 *(x[n] - x[-n])\n",
    "    xi = 1/2 * (xn - _xn)\n",
    "    return xp, xi"
   ]
  },
  {
   "cell_type": "markdown",
   "metadata": {},
   "source": [
    "## $X_1[n]$: Sinal"
   ]
  },
  {
   "cell_type": "code",
   "execution_count": 114,
   "metadata": {},
   "outputs": [
    {
     "data": {
      "image/png": "[encoded data removed]",
      "text/plain": [
       "<Figure size 432x288 with 1 Axes>"
      ]
     },
     "metadata": {
      "needs_background": "light"
     },
     "output_type": "display_data"
    }
   ],
   "source": [
    "n = np.arange(-15, 15)\n",
    "N = len(n)\n",
    "\n",
    "# sinais dado por impulsos\n",
    "u1, u1_ = impulse(n, 1/2, 1)\n",
    "u2, u2_ = impulse(n, 2, 2)\n",
    "u3, u3_ = impulse(n, -1, 0)\n",
    "u4, u4_ = impulse(n, 1, 5)\n",
    "u5, u5_ = impulse(n, 3, -2)\n",
    "\n",
    "# x[n] é dado pela soma de sinais impulso\n",
    "xn = signal_gen([u1,u2,u3,u4,u5])\n",
    "\n",
    "# sinal x[-n]\n",
    "_xn = signal_gen([u1_,u2_,u3_,u4_,u5_])\n",
    "\n",
    "plt.stem(n,xn)\n",
    "plt.xlim(-10,10)\n",
    "plt.ylim(-6,6)\n",
    "plt.gca().spines['left'].set_position('center')\n",
    "plt.gca().spines['left'].set_color('red')\n",
    "plt.gca().spines['right'].set_color('none')\n",
    "plt.gca().spines['bottom'].set_position('center')\n",
    "plt.gca().spines['bottom'].set_color('red')\n",
    "plt.gca().spines['top'].set_color('none')\n",
    "plt.grid()"
   ]
  },
  {
   "cell_type": "markdown",
   "metadata": {},
   "source": [
    "### $X_{p1}$: Parte par do sinal"
   ]
  },
  {
   "cell_type": "code",
   "execution_count": 115,
   "metadata": {},
   "outputs": [
    {
     "data": {
      "image/png": "[encoded data removed]",
      "text/plain": [
       "<Figure size 432x288 with 1 Axes>"
      ]
     },
     "metadata": {
      "needs_background": "light"
     },
     "output_type": "display_data"
    }
   ],
   "source": [
    "xp, xi = signal_decomposition(xn, _xn)\n",
    "\n",
    "plt.stem(n,xp)\n",
    "plt.xlim(-10,10)\n",
    "plt.ylim(-6,6)\n",
    "plt.gca().spines['left'].set_position('center')\n",
    "plt.gca().spines['left'].set_color('red')\n",
    "plt.gca().spines['right'].set_color('none')\n",
    "plt.gca().spines['bottom'].set_position('center')\n",
    "plt.gca().spines['bottom'].set_color('red')\n",
    "plt.gca().spines['top'].set_color('none')\n",
    "plt.grid()"
   ]
  },
  {
   "cell_type": "markdown",
   "metadata": {},
   "source": [
    "### $X_{i1}$: Parte ímpar do sinal"
   ]
  },
  {
   "cell_type": "code",
   "execution_count": 116,
   "metadata": {},
   "outputs": [
    {
     "data": {
      "image/png": "[encoded data removed]",
      "text/plain": [
       "<Figure size 432x288 with 1 Axes>"
      ]
     },
     "metadata": {
      "needs_background": "light"
     },
     "output_type": "display_data"
    }
   ],
   "source": [
    "plt.stem(n,xi)\n",
    "plt.xlim(-10,10)\n",
    "plt.ylim(-6,6)\n",
    "plt.gca().spines['left'].set_position('center')\n",
    "plt.gca().spines['left'].set_color('red')\n",
    "plt.gca().spines['right'].set_color('none')\n",
    "plt.gca().spines['bottom'].set_position('center')\n",
    "plt.gca().spines['bottom'].set_color('red')\n",
    "plt.gca().spines['top'].set_color('none')\n",
    "plt.grid()"
   ]
  },
  {
   "cell_type": "markdown",
   "metadata": {},
   "source": [
    "$\\sum X_{p1} + X_{i1} = X_1[n]$"
   ]
  },
  {
   "cell_type": "code",
   "execution_count": 117,
   "metadata": {},
   "outputs": [
    {
     "data": {
      "image/png": "[encoded data removed]",
      "text/plain": [
       "<Figure size 432x288 with 1 Axes>"
      ]
     },
     "metadata": {
      "needs_background": "light"
     },
     "output_type": "display_data"
    }
   ],
   "source": [
    "plt.stem(n,xp+xi)\n",
    "plt.xlim(-10,10)\n",
    "plt.ylim(-6,6)\n",
    "plt.gca().spines['left'].set_position('center')\n",
    "plt.gca().spines['left'].set_color('red')\n",
    "plt.gca().spines['right'].set_color('none')\n",
    "plt.gca().spines['bottom'].set_position('center')\n",
    "plt.gca().spines['bottom'].set_color('red')\n",
    "plt.gca().spines['top'].set_color('none')\n",
    "plt.grid()"
   ]
  },
  {
   "cell_type": "markdown",
   "metadata": {},
   "source": [
    "## $X_2{[n]}$"
   ]
  },
  {
   "cell_type": "code",
   "execution_count": 118,
   "metadata": {},
   "outputs": [
    {
     "data": {
      "image/png": "[encoded data removed]",
      "text/plain": [
       "<Figure size 432x288 with 1 Axes>"
      ]
     },
     "metadata": {
      "needs_background": "light"
     },
     "output_type": "display_data"
    }
   ],
   "source": [
    "u1, u1_ = impulse(n, 1/3, 1)\n",
    "u2, u2_ = impulse(n, 1/3, -1)\n",
    "u3, u3_ = impulse(n, 1, 2)\n",
    "u4, u4_ = impulse(n, 1, -2)\n",
    "u5, u5_ = impulse(n, 2, 3)\n",
    "u6, u6_ = impulse(n, 2, -3)\n",
    "u7, u7_ = impulse(n, 3, 4)\n",
    "u8, u8_ = impulse(n, 3, -4)\n",
    "u9, u9_ = impulse(n, 3/5, 5)\n",
    "u10, u10_ = impulse(n, 3/5, -5)\n",
    "u11, u11_ = impulse(n, 1, 6)\n",
    "u12, u12_ = impulse(n, 1, -6)\n",
    "\n",
    "xn2 = signal_gen([u1,u2,u3,u4,u5,u6,u7,u8,u9,u10,u11,u12])\n",
    "\n",
    "_xn2 = signal_gen([u1_,u2_,u3_,u4_,u5_,u6_,u7_,u8_,u9_,u10_,u11_,u12_])\n",
    "\n",
    "plt.stem(n,xn2)\n",
    "plt.xlim(-10,10)\n",
    "plt.ylim(-6,6)\n",
    "plt.gca().spines['left'].set_position('center')\n",
    "plt.gca().spines['left'].set_color('red')\n",
    "plt.gca().spines['right'].set_color('none')\n",
    "plt.gca().spines['bottom'].set_position('center')\n",
    "plt.gca().spines['bottom'].set_color('red')\n",
    "plt.gca().spines['top'].set_color('none')\n",
    "plt.grid()"
   ]
  },
  {
   "cell_type": "markdown",
   "metadata": {},
   "source": [
    "### $X_{p2}$"
   ]
  },
  {
   "cell_type": "code",
   "execution_count": 119,
   "metadata": {},
   "outputs": [
    {
     "data": {
      "image/png": "[encoded data removed]",
      "text/plain": [
       "<Figure size 432x288 with 1 Axes>"
      ]
     },
     "metadata": {
      "needs_background": "light"
     },
     "output_type": "display_data"
    }
   ],
   "source": [
    "xp2, xi2 = signal_decomposition(xn2, _xn2)\n",
    "\n",
    "plt.stem(n,xp2)\n",
    "plt.xlim(-10,10)\n",
    "plt.ylim(-6,6)\n",
    "plt.gca().spines['left'].set_position('center')\n",
    "plt.gca().spines['left'].set_color('red')\n",
    "plt.gca().spines['right'].set_color('none')\n",
    "plt.gca().spines['bottom'].set_position('center')\n",
    "plt.gca().spines['bottom'].set_color('red')\n",
    "plt.gca().spines['top'].set_color('none')\n",
    "plt.grid()"
   ]
  },
  {
   "cell_type": "markdown",
   "metadata": {},
   "source": [
    "### $X_{i2}$"
   ]
  },
  {
   "cell_type": "code",
   "execution_count": 120,
   "metadata": {},
   "outputs": [
    {
     "data": {
      "image/png": "[encoded data removed]",
      "text/plain": [
       "<Figure size 432x288 with 1 Axes>"
      ]
     },
     "metadata": {
      "needs_background": "light"
     },
     "output_type": "display_data"
    }
   ],
   "source": [
    "plt.stem(n,xi2)\n",
    "plt.xlim(-10,10)\n",
    "plt.ylim(-6,6)\n",
    "plt.gca().spines['left'].set_position('center')\n",
    "plt.gca().spines['left'].set_color('red')\n",
    "plt.gca().spines['right'].set_color('none')\n",
    "plt.gca().spines['bottom'].set_position('center')\n",
    "plt.gca().spines['bottom'].set_color('red')\n",
    "plt.gca().spines['top'].set_color('none')\n",
    "plt.grid()"
   ]
  },
  {
   "cell_type": "markdown",
   "metadata": {},
   "source": [
    "$\\sum X_{p2} + X_{i2} = X_2[n]$"
   ]
  },
  {
   "cell_type": "code",
   "execution_count": 121,
   "metadata": {},
   "outputs": [
    {
     "data": {
      "image/png": "[encoded data removed]",
      "text/plain": [
       "<Figure size 432x288 with 1 Axes>"
      ]
     },
     "metadata": {
      "needs_background": "light"
     },
     "output_type": "display_data"
    }
   ],
   "source": [
    "plt.stem(n,xp2+xi2)\n",
    "plt.xlim(-10,10)\n",
    "plt.ylim(-6,6)\n",
    "plt.gca().spines['left'].set_position('center')\n",
    "plt.gca().spines['left'].set_color('red')\n",
    "plt.gca().spines['right'].set_color('none')\n",
    "plt.gca().spines['bottom'].set_position('center')\n",
    "plt.gca().spines['bottom'].set_color('red')\n",
    "plt.gca().spines['top'].set_color('none')\n",
    "plt.grid()"
   ]
  },
  {
   "cell_type": "markdown",
   "metadata": {},
   "source": [
    "## $X_3[n]$"
   ]
  },
  {
   "cell_type": "code",
   "execution_count": 122,
   "metadata": {},
   "outputs": [
    {
     "data": {
      "image/png": "[encoded data removed]",
      "text/plain": [
       "<Figure size 432x288 with 1 Axes>"
      ]
     },
     "metadata": {
      "needs_background": "light"
     },
     "output_type": "display_data"
    }
   ],
   "source": [
    "u1, u1_ = impulse(n, 1/3, 1)\n",
    "u2, u2_ = impulse(n, -1/3, -1)\n",
    "u3, u3_ = impulse(n, 1, 2)\n",
    "u4, u4_ = impulse(n, -1, -2)\n",
    "u5, u5_ = impulse(n, 2, 3)\n",
    "u6, u6_ = impulse(n, -2, -3)\n",
    "u7, u7_ = impulse(n, 3, 4)\n",
    "u8, u8_ = impulse(n, -3, -4)\n",
    "u9, u9_ = impulse(n, 2, 5)\n",
    "u10, u10_ = impulse(n, -2, -5)\n",
    "u11, u11_ = impulse(n, 1, 6)\n",
    "u12, u12_ = impulse(n, -1, -6)\n",
    "u13, u13_ = impulse(n, 1/3, 7)\n",
    "u14, u14_ = impulse(n, -1/3, -7)\n",
    "\n",
    "xn3 = signal_gen([u1,u2,u3,u4,u5,u6,u7,u8,u9,u10,u11,u12])\n",
    "\n",
    "_xn3 = signal_gen([u1_,u2_,u3_,u4_,u5_,u6_,u7_,u8_,u9_,u10_,u11_,u12_])\n",
    "\n",
    "plt.stem(n,xn3)\n",
    "plt.xlim(-10,10)\n",
    "plt.ylim(-6,6)\n",
    "plt.gca().spines['left'].set_position('center')\n",
    "plt.gca().spines['left'].set_color('red')\n",
    "plt.gca().spines['right'].set_color('none')\n",
    "plt.gca().spines['bottom'].set_position('center')\n",
    "plt.gca().spines['bottom'].set_color('red')\n",
    "plt.gca().spines['top'].set_color('none')\n",
    "plt.grid()"
   ]
  },
  {
   "cell_type": "markdown",
   "metadata": {},
   "source": [
    "### $X_{p3}$"
   ]
  },
  {
   "cell_type": "code",
   "execution_count": 123,
   "metadata": {},
   "outputs": [
    {
     "data": {
      "image/png": "[encoded data removed]",
      "text/plain": [
       "<Figure size 432x288 with 1 Axes>"
      ]
     },
     "metadata": {
      "needs_background": "light"
     },
     "output_type": "display_data"
    }
   ],
   "source": [
    "xp3, xi3 = signal_decomposition(xn3, _xn3)\n",
    "\n",
    "plt.stem(n,xp3)\n",
    "plt.xlim(-10,10)\n",
    "plt.ylim(-6,6)\n",
    "plt.gca().spines['left'].set_position('center')\n",
    "plt.gca().spines['left'].set_color('red')\n",
    "plt.gca().spines['right'].set_color('none')\n",
    "plt.gca().spines['bottom'].set_position('center')\n",
    "plt.gca().spines['bottom'].set_color('red')\n",
    "plt.gca().spines['top'].set_color('none')\n",
    "plt.grid()"
   ]
  },
  {
   "cell_type": "markdown",
   "metadata": {},
   "source": [
    "### $X_{i3}$"
   ]
  },
  {
   "cell_type": "code",
   "execution_count": 124,
   "metadata": {},
   "outputs": [
    {
     "data": {
      "image/png": "[encoded data removed]",
      "text/plain": [
       "<Figure size 432x288 with 1 Axes>"
      ]
     },
     "metadata": {
      "needs_background": "light"
     },
     "output_type": "display_data"
    }
   ],
   "source": [
    "plt.stem(n,xi3)\n",
    "plt.xlim(-10,10)\n",
    "plt.ylim(-6,6)\n",
    "plt.gca().spines['left'].set_position('center')\n",
    "plt.gca().spines['left'].set_color('red')\n",
    "plt.gca().spines['right'].set_color('none')\n",
    "plt.gca().spines['bottom'].set_position('center')\n",
    "plt.gca().spines['bottom'].set_color('red')\n",
    "plt.gca().spines['top'].set_color('none')\n",
    "plt.grid()"
   ]
  },
  {
   "cell_type": "markdown",
   "metadata": {},
   "source": [
    "$\\sum X_{p3} + X_{i3} = X_3[n]$"
   ]
  },
  {
   "cell_type": "code",
   "execution_count": 125,
   "metadata": {},
   "outputs": [
    {
     "data": {
      "image/png": "[encoded data removed]",
      "text/plain": [
       "<Figure size 432x288 with 1 Axes>"
      ]
     },
     "metadata": {
      "needs_background": "light"
     },
     "output_type": "display_data"
    }
   ],
   "source": [
    "plt.stem(n,xp3+xi3)\n",
    "plt.xlim(-10,10)\n",
    "plt.ylim(-6,6)\n",
    "plt.gca().spines['left'].set_position('center')\n",
    "plt.gca().spines['left'].set_color('red')\n",
    "plt.gca().spines['right'].set_color('none')\n",
    "plt.gca().spines['bottom'].set_position('center')\n",
    "plt.gca().spines['bottom'].set_color('red')\n",
    "plt.gca().spines['top'].set_color('none')\n",
    "plt.grid()"
   ]
  }
 ],
 "metadata": {
  "interpreter": {
   "hash": "12cae2aaed0c89d310710a97b5a8c80dbaa15078eec4813cf3639dc05d74c7b1"
  },
  "kernelspec": {
   "display_name": "Python 3.10.1 64-bit ('venv': venv)",
   "language": "python",
   "name": "python3"
  },
  "language_info": {
   "codemirror_mode": {
    "name": "ipython",
    "version": 3
   },
   "file_extension": ".py",
   "mimetype": "text/x-python",
   "name": "python",
   "nbconvert_exporter": "python",
   "pygments_lexer": "ipython3",
   "version": "3.10.1"
  },
  "orig_nbformat": 4
 },
 "nbformat": 4,
 "nbformat_minor": 2
}
