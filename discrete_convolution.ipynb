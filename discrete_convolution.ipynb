{
 "cells": [
  {
   "cell_type": "code",
   "execution_count": 93,
   "metadata": {},
   "outputs": [],
   "source": [
    "import numpy as np\n",
    "import matplotlib.pyplot as plt"
   ]
  },
  {
   "cell_type": "code",
   "execution_count": 94,
   "metadata": {},
   "outputs": [],
   "source": [
    "def impulse(n : np.array, A: float, n0: float) -> np.array:\n",
    "    \"\"\"Função para gerar sinais impulsivos\n",
    "\n",
    "    Args:\n",
    "        n (np.array): array de valores numpy\n",
    "        A (float): amplitude do sinal impulso\n",
    "        n0 (float): atraso ou avanço do instante de tempo do impulso\n",
    "\n",
    "    Returns:\n",
    "        d (np.array): sinal impulso de amplitude A e deslocado em n0\n",
    "    \"\"\"\n",
    "    d = np.zeros(N)\n",
    "    ind = np.where(n==n0)\n",
    "    d[ind] = A\n",
    "    return d\n",
    "\n",
    "def sum_impulsive_signals(values: list) -> np.array:\n",
    "    \"\"\"Função compõe um sinal a partir de sinais de impulso\n",
    "\n",
    "    Args:\n",
    "        values (list): lista de sinais impulsivos\n",
    "\n",
    "    Returns:\n",
    "        np.array: sinal\n",
    "    \"\"\"\n",
    "    return sum(values)\n",
    "\n",
    "\n",
    "def convolution(x : list, nx : list, h : list, nh : list) -> list:\n",
    "    \"\"\"Função que realiza a convolução de dois sinais discretos x[n], h[n]\n",
    "\n",
    "    Args:\n",
    "        x (list): Sinal x[n] em formato de array.\n",
    "        nx (list): indices do sinal x[n] que armazena os instantes de tempos para cada sinal em x[n].\n",
    "        h (list): Sinal h[n] em formato de array.\n",
    "        nh (list): indices do sinal h[n] que armazena os instantes de tempos para cada sinal em h[n].\n",
    "\n",
    "    Returns:\n",
    "        y (list): Sinal resultado da convolução, isto é, y[n].\n",
    "        ny (list): indices do sinal y[n] que armazena os instantes de tempos para cada sinal em y[n].\n",
    "    \"\"\"\n",
    "    lx = len(x)\n",
    "    lh = len(h)\n",
    "\n",
    "    y = []\n",
    "\n",
    "    ny = []\n",
    "\n",
    "    for n in range(lx):\n",
    "        for k in range(lh):\n",
    "            if nx[n] + nh[k] not in ny:\n",
    "                ny.append(nx[n] + nh[k])\n",
    "                y.append(x[n]*h[k])\n",
    "            else:\n",
    "                idx = ny.index(nx[n]+nh[k])\n",
    "                y[idx] += (x[n]*h[k])\n",
    "    return y, ny"
   ]
  },
  {
   "cell_type": "code",
   "execution_count": 126,
   "metadata": {},
   "outputs": [
    {
     "data": {
      "image/png": "[encoded data removed]",
      "text/plain": [
       "<Figure size 576x576 with 3 Axes>"
      ]
     },
     "metadata": {
      "needs_background": "light"
     },
     "output_type": "display_data"
    }
   ],
   "source": [
    "# x[n]\n",
    "x = [0.5, 2]\n",
    "nx = [0,1]\n",
    "\n",
    "# h[n]\n",
    "h = [1, 1, 1]\n",
    "nh = [0,1,2]\n",
    "\n",
    "y, ny = convolution(x,nx,h,nh)\n",
    "\n",
    "fig, ax = plt.subplots(3, 1, figsize=(8,8))\n",
    "\n",
    "fig.tight_layout(pad=3.0)\n",
    "\n",
    "ax[0].stem(nx, x)\n",
    "# ax[0].set_xlim([-10, 10])\n",
    "ax[0].title.set_text('x[n]')\n",
    "ax[1].stem(nh, h)\n",
    "# ax[1].set_xlim([-10, 10])\n",
    "ax[1].title.set_text('h[n]')\n",
    "ax[2].stem(ny, y)\n",
    "# ax[2].set_xlim([-10, 10])\n",
    "ax[2].title.set_text('y[n]')\n",
    "\n",
    "\n",
    "plt.show()"
   ]
  },
  {
   "cell_type": "code",
   "execution_count": null,
   "metadata": {},
   "outputs": [],
   "source": []
  }
 ],
 "metadata": {
  "interpreter": {
   "hash": "3e98b3568e7903ecd8e9f463ff8620fad918a8ca44144e81c15f4ef2b1bb8d30"
  },
  "kernelspec": {
   "display_name": "Python 3.10.2 64-bit ('.venv': venv)",
   "language": "python",
   "name": "python3"
  },
  "language_info": {
   "codemirror_mode": {
    "name": "ipython",
    "version": 3
   },
   "file_extension": ".py",
   "mimetype": "text/x-python",
   "name": "python",
   "nbconvert_exporter": "python",
   "pygments_lexer": "ipython3",
   "version": "3.10.2"
  },
  "orig_nbformat": 4
 },
 "nbformat": 4,
 "nbformat_minor": 2
}
