{
 "cells": [
  {
   "cell_type": "code",
   "execution_count": 2,
   "metadata": {},
   "outputs": [],
   "source": [
    "import numpy as np\n",
    "import matplotlib.pyplot as plt"
   ]
  },
  {
   "cell_type": "code",
   "execution_count": 3,
   "metadata": {},
   "outputs": [],
   "source": [
    "def convolution(x : list, nx : list, h : list, nh : list) -> list:\n",
    "    \"\"\"Função que realiza a convolução de dois sinais discretos x[n], h[n]\n",
    "\n",
    "    Args:\n",
    "        x (list): Sinal x[n] em formato de array.\n",
    "        nx (list): indices do sinal x[n] que armazena os instantes de tempos para cada sinal em x[n].\n",
    "        h (list): Sinal h[n] em formato de array.\n",
    "        nh (list): indices do sinal h[n] que armazena os instantes de tempos para cada sinal em h[n].\n",
    "\n",
    "    Returns:\n",
    "        y (list): Sinal resultado da convolução, isto é, y[n].\n",
    "        ny (list): indices do sinal y[n] que armazena os instantes de tempos para cada sinal em y[n].\n",
    "    \"\"\"\n",
    "    lx = len(x)\n",
    "    lh = len(h)\n",
    "\n",
    "    y = []\n",
    "\n",
    "    ny = []\n",
    "\n",
    "    for n in range(lx):\n",
    "        for k in range(lh):\n",
    "            if nx[n] + nh[k] not in ny:\n",
    "                ny.append(nx[n] + nh[k])\n",
    "                y.append(x[n]*h[k])\n",
    "            else:\n",
    "                idx = ny.index(nx[n]+nh[k])\n",
    "                y[idx] += (x[n]*h[k])\n",
    "    return y, ny"
   ]
  },
  {
   "cell_type": "code",
   "execution_count": 7,
   "metadata": {},
   "outputs": [
    {
     "data": {
      "image/png": "[encoded data removed]",
      "text/plain": [
       "<Figure size 576x576 with 3 Axes>"
      ]
     },
     "metadata": {
      "needs_background": "light"
     },
     "output_type": "display_data"
    }
   ],
   "source": [
    "# x[n]\n",
    "x = [0.5, 2]\n",
    "nx = [0,1]\n",
    "\n",
    "# h[n]\n",
    "h = [1, 1, 1]\n",
    "nh = [0,1,2]\n",
    "\n",
    "y, ny = convolution(x,nx,h,nh)\n",
    "\n",
    "fig, ax = plt.subplots(3, 1, sharex=True, sharey=True, figsize=(8,8))\n",
    "\n",
    "fig.tight_layout(pad=3.0)\n",
    "\n",
    "ax[0].stem(nx, x)\n",
    "ax[0].set_xlabel('n')\n",
    "ax[0].set_ylabel('amplitude')\n",
    "ax[0].title.set_text('x[n]')\n",
    "# ax[0].set_xlim([-10, 10])\n",
    "ax[1].stem(nh, h)\n",
    "ax[1].set_xlabel('n')\n",
    "ax[1].set_ylabel('amplitude')\n",
    "ax[1].title.set_text('h[n]')\n",
    "# ax[1].set_xlim([-10, 10])\n",
    "ax[2].stem(ny, y)\n",
    "ax[2].set_xlabel('n')\n",
    "ax[2].set_ylabel('amplitude')\n",
    "ax[2].title.set_text('y[n]')\n",
    "# ax[2].set_xlim([-10, 10])\n",
    "\n",
    "plt.show()"
   ]
  },
  {
   "cell_type": "code",
   "execution_count": null,
   "metadata": {},
   "outputs": [],
   "source": []
  }
 ],
 "metadata": {
  "interpreter": {
   "hash": "3e98b3568e7903ecd8e9f463ff8620fad918a8ca44144e81c15f4ef2b1bb8d30"
  },
  "kernelspec": {
   "display_name": "Python 3.10.2 64-bit ('.venv': venv)",
   "language": "python",
   "name": "python3"
  },
  "language_info": {
   "codemirror_mode": {
    "name": "ipython",
    "version": 3
   },
   "file_extension": ".py",
   "mimetype": "text/x-python",
   "name": "python",
   "nbconvert_exporter": "python",
   "pygments_lexer": "ipython3",
   "version": "3.10.2"
  },
  "orig_nbformat": 4
 },
 "nbformat": 4,
 "nbformat_minor": 2
}
